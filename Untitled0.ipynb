{
  "nbformat": 4,
  "nbformat_minor": 0,
  "metadata": {
    "colab": {
      "provenance": [],
      "authorship_tag": "ABX9TyOXm9jUl27VNV1vkjMfXyVd",
      "include_colab_link": true
    },
    "kernelspec": {
      "name": "python3",
      "display_name": "Python 3"
    },
    "language_info": {
      "name": "python"
    }
  },
  "cells": [
    {
      "cell_type": "markdown",
      "metadata": {
        "id": "view-in-github",
        "colab_type": "text"
      },
      "source": [
        "<a href=\"https://colab.research.google.com/github/tittus11gh/Alura-IA/blob/main/Untitled0.ipynb\" target=\"_parent\"><img src=\"https://colab.research.google.com/assets/colab-badge.svg\" alt=\"Open In Colab\"/></a>"
      ]
    },
    {
      "cell_type": "code",
      "source": [
        "tito = 1\n",
        "jessica = 2\n",
        "if(tito == jessica):\n",
        "  print('são iguais')\n",
        "else:\n",
        "  print('são diferentes')"
      ],
      "metadata": {
        "colab": {
          "base_uri": "https://localhost:8080/"
        },
        "id": "UTbF1inwO9Ln",
        "outputId": "1fa514d0-9e38-4a3a-dca0-4fa11aae29e3"
      },
      "execution_count": null,
      "outputs": [
        {
          "output_type": "stream",
          "name": "stdout",
          "text": [
            "são diferentes\n"
          ]
        }
      ]
    },
    {
      "cell_type": "code",
      "execution_count": null,
      "metadata": {
        "colab": {
          "base_uri": "https://localhost:8080/"
        },
        "id": "3hSNgbtM_uaN",
        "outputId": "1d6b972f-30c3-4b24-9899-e51f194ca671"
      },
      "outputs": [
        {
          "output_type": "stream",
          "name": "stdout",
          "text": [
            "10\n",
            "criar interatividade em páginas web e desenvolver aplicações front-end.\n",
            "A palavra secreta tem 10 letras -> criar interatividade em páginas web e desenvolver aplicações front-end.\n",
            "A palavra secreta tem 10 letras -> criar interatividade em páginas web e desenvolver aplicações front-end.html\n",
            "A palavra secreta tem 10 letras -> criar interatividade em páginas web e desenvolver aplicações front-end.html\n",
            "errou... a palavra secreta era javascript\n"
          ]
        }
      ],
      "source": [
        "import requests\n",
        "url = 'https://raw.githubusercontent.com/guilhermeonrails/api-imersao-ia/main/words.json'\n",
        "requests.get(url)\n",
        "resposta = requests.get(url)\n",
        "resposta.json()\n",
        "data = resposta.json()\n",
        "len(data)\n",
        "type(data)\n",
        "data[1]\n",
        "data[0]\n",
        "data[42]\n",
        "data[-1]\n",
        "import random\n",
        "random.choice(data)\n",
        "valor_secreto = random.choice(data)\n",
        "valor_secreto['palavra']\n",
        "palavra_secreta = valor_secreto['palavra']\n",
        "dica = valor_secreto['dica']\n",
        "print(len(palavra_secreta))\n",
        "print(dica)\n",
        "print(f'A palavra secreta tem {len(palavra_secreta)} letras -> {dica}')\n",
        "input(f'A palavra secreta tem {len(palavra_secreta)} letras -> {dica}')\n",
        "chute = input(f'A palavra secreta tem {len(palavra_secreta)} letras -> {dica}')\n",
        "chute\n",
        "if chute == palavra_secreta:\n",
        "  print('acertou')\n",
        "else:\n",
        "  print(f'errou... a palavra secreta era {palavra_secreta}')\n",
        "\n"
      ]
    },
    {
      "cell_type": "code",
      "source": [],
      "metadata": {
        "id": "Ma8cyoDD43fC"
      },
      "execution_count": null,
      "outputs": []
    }
  ]
}